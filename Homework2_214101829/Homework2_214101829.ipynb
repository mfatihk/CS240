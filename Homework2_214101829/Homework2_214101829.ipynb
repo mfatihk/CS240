{
 "cells": [
  {
   "cell_type": "code",
   "execution_count": 1,
   "metadata": {
    "collapsed": true
   },
   "outputs": [],
   "source": [
    "from __future__ import print_function, division\n",
    "\n",
    "%matplotlib inline\n",
    "\n",
    "import numpy as np\n",
    "\n",
    "import nsfg\n",
    "import first"
   ]
  },
  {
   "cell_type": "code",
   "execution_count": 2,
   "metadata": {
    "collapsed": true
   },
   "outputs": [],
   "source": [
    "#Read NSFG with .ReadFemResp() function that provided by nsfg.py and assign it a variable that called pres \n",
    "pres = nsfg.ReadFemResp()"
   ]
  },
  {
   "cell_type": "code",
   "execution_count": 3,
   "metadata": {
    "collapsed": false
   },
   "outputs": [
    {
     "data": {
      "text/plain": [
       "0        NaN\n",
       "1       21.0\n",
       "2       16.0\n",
       "3        NaN\n",
       "4        NaN\n",
       "5       17.0\n",
       "6        NaN\n",
       "7        NaN\n",
       "8       18.0\n",
       "9        NaN\n",
       "10      19.0\n",
       "11      25.0\n",
       "12      23.0\n",
       "13      16.0\n",
       "14      14.0\n",
       "15       NaN\n",
       "16      17.0\n",
       "17      30.0\n",
       "18       NaN\n",
       "19      16.0\n",
       "20       NaN\n",
       "21      18.0\n",
       "22      24.0\n",
       "23      24.0\n",
       "24      27.0\n",
       "25       NaN\n",
       "26       NaN\n",
       "27      22.0\n",
       "28      19.0\n",
       "29      19.0\n",
       "        ... \n",
       "7613     NaN\n",
       "7614    23.0\n",
       "7615     NaN\n",
       "7616    19.0\n",
       "7617    23.0\n",
       "7618    26.0\n",
       "7619    27.0\n",
       "7620    24.0\n",
       "7621     NaN\n",
       "7622     NaN\n",
       "7623     NaN\n",
       "7624    23.0\n",
       "7625     NaN\n",
       "7626     NaN\n",
       "7627     NaN\n",
       "7628     NaN\n",
       "7629    21.0\n",
       "7630    37.0\n",
       "7631     NaN\n",
       "7632    25.0\n",
       "7633    20.0\n",
       "7634    21.0\n",
       "7635    17.0\n",
       "7636    18.0\n",
       "7637    21.0\n",
       "7638    18.0\n",
       "7639     NaN\n",
       "7640     NaN\n",
       "7641     NaN\n",
       "7642     NaN\n",
       "Name: fmar1age, dtype: float64"
      ]
     },
     "execution_count": 3,
     "metadata": {},
     "output_type": "execute_result"
    }
   ],
   "source": [
    "pres.fmar1age # fmar1age column  "
   ]
  },
  {
   "cell_type": "code",
   "execution_count": 4,
   "metadata": {
    "collapsed": false
   },
   "outputs": [
    {
     "data": {
      "text/plain": [
       "Hist({9.0: 1, 11.0: 2, 12.0: 1, 13.0: 3, 14.0: 18, 15.0: 50, 16.0: 115, 17.0: 173, 18.0: 342, 19.0: 328, 20.0: 353, 21.0: 364, 22.0: 381, 23.0: 359, 24.0: 285, 25.0: 261, 26.0: 233, 27.0: 177, 28.0: 150, 29.0: 129, 30.0: 97, 31.0: 72, 32.0: 52, 33.0: 49, 34.0: 29, 35.0: 35, 36.0: 14, 37.0: 14, 38.0: 10, 39.0: 10, 40.0: 7, 41.0: 6, 42.0: 3, 43.0: 3})"
      ]
     },
     "execution_count": 4,
     "metadata": {},
     "output_type": "execute_result"
    }
   ],
   "source": [
    "import thinkstats2\n",
    "import thinkplot\n",
    "hist = thinkstats2.Hist(pres.fmar1age, label='Age of First Mariage ') # Frequency of each age\n",
    "hist\n",
    "# pres.fmar1age.value_counts().sort_index() -- Second way of doing this"
   ]
  },
  {
   "cell_type": "code",
   "execution_count": 5,
   "metadata": {
    "collapsed": false
   },
   "outputs": [
    {
     "data": {
      "image/png": "[encoded data removed]",
      "text/plain": [
       "<matplotlib.figure.Figure at 0xb66cb00>"
      ]
     },
     "metadata": {},
     "output_type": "display_data"
    }
   ],
   "source": [
    "width = 0.5\n",
    "thinkplot.Hist(hist, width = width) # histogram of fmar1age \n",
    "thinkplot.config(xlabel='Age', ylabel='Frequency')"
   ]
  },
  {
   "cell_type": "markdown",
   "metadata": {},
   "source": [
    "<strong>Question 2</strong>"
   ]
  },
  {
   "cell_type": "code",
   "execution_count": 6,
   "metadata": {
    "collapsed": false
   },
   "outputs": [
    {
     "data": {
      "text/plain": [
       "0       0\n",
       "1       2\n",
       "2       1\n",
       "3       0\n",
       "4       0\n",
       "5       1\n",
       "6       0\n",
       "7       0\n",
       "8       1\n",
       "9       0\n",
       "10      1\n",
       "11      1\n",
       "12      1\n",
       "13      2\n",
       "14      1\n",
       "15      0\n",
       "16      1\n",
       "17      1\n",
       "18      0\n",
       "19      1\n",
       "20      0\n",
       "21      1\n",
       "22      1\n",
       "23      1\n",
       "24      1\n",
       "25      0\n",
       "26      0\n",
       "27      1\n",
       "28      1\n",
       "29      1\n",
       "       ..\n",
       "7613    0\n",
       "7614    1\n",
       "7615    0\n",
       "7616    2\n",
       "7617    1\n",
       "7618    1\n",
       "7619    1\n",
       "7620    1\n",
       "7621    0\n",
       "7622    0\n",
       "7623    0\n",
       "7624    1\n",
       "7625    0\n",
       "7626    0\n",
       "7627    0\n",
       "7628    0\n",
       "7629    1\n",
       "7630    1\n",
       "7631    0\n",
       "7632    1\n",
       "7633    1\n",
       "7634    1\n",
       "7635    1\n",
       "7636    1\n",
       "7637    1\n",
       "7638    2\n",
       "7639    0\n",
       "7640    0\n",
       "7641    0\n",
       "7642    0\n",
       "Name: fmarno, dtype: int64"
      ]
     },
     "execution_count": 6,
     "metadata": {},
     "output_type": "execute_result"
    }
   ],
   "source": [
    "pres.fmarno # fmarno column"
   ]
  },
  {
   "cell_type": "code",
   "execution_count": 7,
   "metadata": {
    "collapsed": false
   },
   "outputs": [
    {
     "data": {
      "text/plain": [
       "Hist({0: 3517, 1: 3436, 2: 582, 3: 90, 4: 15, 5: 3})"
      ]
     },
     "execution_count": 7,
     "metadata": {},
     "output_type": "execute_result"
    }
   ],
   "source": [
    "hist3 = thinkstats2.Hist(pres.fmarno, label='The Number of Marriage') # Frequency of number of marriage\n",
    "hist3\n",
    "# presfmarno = pres.fmarno.value_counts().sort_index() -- Second way for doing this"
   ]
  },
  {
   "cell_type": "code",
   "execution_count": 8,
   "metadata": {
    "collapsed": false
   },
   "outputs": [
    {
     "data": {
      "image/png": "[encoded data removed]",
      "text/plain": [
       "<matplotlib.figure.Figure at 0x165ca1d0>"
      ]
     },
     "metadata": {},
     "output_type": "display_data"
    }
   ],
   "source": [
    "thinkplot.Hist(hist3, width = width) # histogram of fmarno\n",
    "thinkplot.Config(xlabel='Number of Marriage', ylabel='Frequency')"
   ]
  },
  {
   "cell_type": "markdown",
   "metadata": {
    "collapsed": true
   },
   "source": [
    "<strong>Question3</strong>"
   ]
  },
  {
   "cell_type": "code",
   "execution_count": 9,
   "metadata": {
    "collapsed": false
   },
   "outputs": [
    {
     "data": {
      "text/plain": [
       "0        9\n",
       "1       10\n",
       "2        5\n",
       "3       13\n",
       "4        6\n",
       "5        7\n",
       "6        6\n",
       "7       12\n",
       "8        6\n",
       "9       12\n",
       "10       9\n",
       "11      13\n",
       "12       7\n",
       "13       8\n",
       "14       6\n",
       "15       9\n",
       "16       5\n",
       "17       2\n",
       "18       9\n",
       "19       4\n",
       "20      12\n",
       "21      12\n",
       "22       8\n",
       "23      13\n",
       "24      10\n",
       "25       6\n",
       "26      11\n",
       "27       2\n",
       "28      11\n",
       "29       9\n",
       "        ..\n",
       "7613    13\n",
       "7614     7\n",
       "7615    14\n",
       "7616     4\n",
       "7617    12\n",
       "7618     8\n",
       "7619    14\n",
       "7620     8\n",
       "7621    11\n",
       "7622    14\n",
       "7623    14\n",
       "7624    12\n",
       "7625    14\n",
       "7626     2\n",
       "7627     3\n",
       "7628    14\n",
       "7629     4\n",
       "7630     5\n",
       "7631     1\n",
       "7632     6\n",
       "7633     9\n",
       "7634     5\n",
       "7635     8\n",
       "7636     3\n",
       "7637     8\n",
       "7638    14\n",
       "7639    14\n",
       "7640    10\n",
       "7641    13\n",
       "7642    11\n",
       "Name: totincr, dtype: int64"
      ]
     },
     "execution_count": 9,
     "metadata": {},
     "output_type": "execute_result"
    }
   ],
   "source": [
    "pres.totincr # total income for the respondent's family "
   ]
  },
  {
   "cell_type": "code",
   "execution_count": 10,
   "metadata": {
    "collapsed": false,
    "scrolled": true
   },
   "outputs": [
    {
     "data": {
      "text/plain": [
       "Hist({1: 299, 2: 301, 3: 266, 4: 421, 5: 445, 6: 559, 7: 583, 8: 606, 9: 607, 10: 468, 11: 647, 12: 658, 13: 623, 14: 1160})"
      ]
     },
     "execution_count": 10,
     "metadata": {},
     "output_type": "execute_result"
    }
   ],
   "source": [
    "# Frequency of total income for the respondent's family\n",
    "hist5 = thinkstats2.Hist(pres.totincr, label='Total Income for the Respondents Family') \n",
    "hist5\n",
    "#prestotincr = pres.totincr.value_counts().sort_index() # Second way for doing this"
   ]
  },
  {
   "cell_type": "code",
   "execution_count": 11,
   "metadata": {
    "collapsed": false
   },
   "outputs": [
    {
     "data": {
      "image/png": "[encoded data removed]",
      "text/plain": [
       "<matplotlib.figure.Figure at 0x15725b70>"
      ]
     },
     "metadata": {},
     "output_type": "display_data"
    }
   ],
   "source": [
    "thinkplot.Hist(hist5, width = width) # histogram of totincr\n",
    "thinkplot.Config(xlabel='Value', ylabel='Number of People')"
   ]
  },
  {
   "cell_type": "markdown",
   "metadata": {},
   "source": [
    "<strong>Question4</strong>"
   ]
  },
  {
   "cell_type": "code",
   "execution_count": 12,
   "metadata": {
    "collapsed": false
   },
   "outputs": [
    {
     "data": {
      "text/plain": [
       "0       0\n",
       "1       2\n",
       "2       1\n",
       "3       0\n",
       "4       0\n",
       "5       1\n",
       "6       0\n",
       "7       0\n",
       "8       1\n",
       "9       0\n",
       "10      1\n",
       "11      1\n",
       "12      1\n",
       "13      2\n",
       "14      1\n",
       "15      0\n",
       "16      1\n",
       "17      1\n",
       "18      0\n",
       "19      1\n",
       "20      0\n",
       "21      1\n",
       "22      1\n",
       "23      1\n",
       "24      1\n",
       "25      0\n",
       "26      0\n",
       "27      1\n",
       "28      1\n",
       "29      1\n",
       "       ..\n",
       "7613    0\n",
       "7614    1\n",
       "7615    0\n",
       "7616    2\n",
       "7617    1\n",
       "7618    1\n",
       "7619    1\n",
       "7620    1\n",
       "7621    0\n",
       "7622    0\n",
       "7623    0\n",
       "7624    1\n",
       "7625    0\n",
       "7626    0\n",
       "7627    0\n",
       "7628    0\n",
       "7629    1\n",
       "7630    1\n",
       "7631    0\n",
       "7632    1\n",
       "7633    1\n",
       "7634    1\n",
       "7635    1\n",
       "7636    1\n",
       "7637    1\n",
       "7638    2\n",
       "7639    0\n",
       "7640    0\n",
       "7641    0\n",
       "7642    0\n",
       "Name: fmarno, dtype: int64"
      ]
     },
     "execution_count": 12,
     "metadata": {},
     "output_type": "execute_result"
    }
   ],
   "source": [
    "pres.fmarno"
   ]
  },
  {
   "cell_type": "code",
   "execution_count": 13,
   "metadata": {
    "collapsed": false
   },
   "outputs": [
    {
     "data": {
      "text/plain": [
       "0    3517\n",
       "1    3436\n",
       "2     582\n",
       "3      90\n",
       "4      15\n",
       "5       3\n",
       "Name: fmarno, dtype: int64"
      ]
     },
     "execution_count": 13,
     "metadata": {},
     "output_type": "execute_result"
    }
   ],
   "source": [
    "pres.fmarno.value_counts()"
   ]
  },
  {
   "cell_type": "code",
   "execution_count": 14,
   "metadata": {
    "collapsed": false
   },
   "outputs": [],
   "source": [
    "neverMarried = pres[pres.fmarno == 0]\n",
    "married = pres[pres.fmarno > 0]"
   ]
  },
  {
   "cell_type": "code",
   "execution_count": 15,
   "metadata": {
    "collapsed": false
   },
   "outputs": [
    {
     "data": {
      "image/png": "[encoded data removed]",
      "text/plain": [
       "<matplotlib.figure.Figure at 0x1c06a438>"
      ]
     },
     "metadata": {},
     "output_type": "display_data"
    }
   ],
   "source": [
    "nMarried_hist = thinkstats2.Hist(neverMarried.totincr, label='Total Income for never Married')\n",
    "Married_hist = thinkstats2.Hist(married.totincr, label='Total Income for Married')\n",
    "\n",
    "thinkplot.PrePlot(2) # 2 columns next to each other \n",
    "thinkplot.Hist(nMarried_hist, align='right', width=width)\n",
    "thinkplot.Hist(Married_hist, align='left', width=width)\n",
    "thinkplot.Config(xlabel='Value', ylabel='Frequency')"
   ]
  },
  {
   "cell_type": "markdown",
   "metadata": {},
   "source": [
    "<strong>Question5</strong>"
   ]
  },
  {
   "cell_type": "code",
   "execution_count": 16,
   "metadata": {
    "collapsed": false
   },
   "outputs": [
    {
     "name": "stdout",
     "output_type": "stream",
     "text": [
      "Min: 1, Max: 14, Standard Deviation: 3.98080879683, Variance: 15.846838677, Mean: 8.02075632641\n"
     ]
    }
   ],
   "source": [
    "prestotincrNM_q5 = pres.totincr[pres.fmarno == 0] # min, max, std and var for neverMarried respondents\n",
    "print('Min: ' + str(prestotincrNM_q5.min()) + ', Max: ' + str(prestotincrNM_q5.max()) + \n",
    "      ', Standard Deviation: ' + str(prestotincrNM_q5.std()) + ', Variance: ' + str(prestotincrNM_q5.var()) + \n",
    "      ', Mean: ' + str(prestotincrNM_q5.mean()))"
   ]
  },
  {
   "cell_type": "code",
   "execution_count": 17,
   "metadata": {
    "collapsed": false
   },
   "outputs": [
    {
     "name": "stdout",
     "output_type": "stream",
     "text": [
      "Min: 1, Max: 14, Standard Deviation: 3.7146524958, Variance: 13.7986431646, Mean: 9.49515269026\n"
     ]
    }
   ],
   "source": [
    "prestotincrM_q5 = pres.totincr[pres.fmarno > 0] # min, max, std and var for Married respondents\n",
    "print('Min: ' + str(prestotincrM_q5.min()) + ', Max: ' + str(prestotincrM_q5.max()) + \n",
    "      ', Standard Deviation: ' + str(prestotincrM_q5.std()) + ', Variance: ' + str(prestotincrM_q5.var())\n",
    "     + ', Mean: ' + str(prestotincrM_q5.mean()))"
   ]
  },
  {
   "cell_type": "code",
   "execution_count": null,
   "metadata": {
    "collapsed": true
   },
   "outputs": [],
   "source": []
  }
 ],
 "metadata": {
  "kernelspec": {
   "display_name": "Python 2",
   "language": "python",
   "name": "python2"
  },
  "language_info": {
   "codemirror_mode": {
    "name": "ipython",
    "version": 2
   },
   "file_extension": ".py",
   "mimetype": "text/x-python",
   "name": "python",
   "nbconvert_exporter": "python",
   "pygments_lexer": "ipython2",
   "version": "2.7.13"
  }
 },
 "nbformat": 4,
 "nbformat_minor": 2
}
